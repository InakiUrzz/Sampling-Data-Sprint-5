{
 "cells": [
  {
   "cell_type": "markdown",
   "metadata": {},
   "source": [
    "### Modulo 5 Sampling"
   ]
  },
  {
   "cell_type": "markdown",
   "metadata": {},
   "source": [
    "$~$\n",
    "### Métodos de muestreo.\n",
    "$~$\n",
    "___\n"
   ]
  },
  {
   "cell_type": "markdown",
   "metadata": {},
   "source": [
    "### Ejercicio 1"
   ]
  },
  {
   "cell_type": "code",
   "execution_count": 465,
   "metadata": {},
   "outputs": [],
   "source": [
    "#First of all we are going to import our librarys.\n",
    "import pandas as pd\n",
    "import numpy as np"
   ]
  },
  {
   "cell_type": "code",
   "execution_count": 466,
   "metadata": {},
   "outputs": [
    {
     "data": {
      "text/html": [
       "<div>\n",
       "<style scoped>\n",
       "    .dataframe tbody tr th:only-of-type {\n",
       "        vertical-align: middle;\n",
       "    }\n",
       "\n",
       "    .dataframe tbody tr th {\n",
       "        vertical-align: top;\n",
       "    }\n",
       "\n",
       "    .dataframe thead th {\n",
       "        text-align: right;\n",
       "    }\n",
       "</style>\n",
       "<table border=\"1\" class=\"dataframe\">\n",
       "  <thead>\n",
       "    <tr style=\"text-align: right;\">\n",
       "      <th></th>\n",
       "      <th>NAME</th>\n",
       "      <th>NOC</th>\n",
       "      <th>SPORTS</th>\n",
       "      <th>EVENT</th>\n",
       "      <th>MEDAL</th>\n",
       "    </tr>\n",
       "  </thead>\n",
       "  <tbody>\n",
       "    <tr>\n",
       "      <th>0</th>\n",
       "      <td>STROLZ Johannes</td>\n",
       "      <td>Austria</td>\n",
       "      <td>Alpine Skiing</td>\n",
       "      <td>Men's Alpine Combined</td>\n",
       "      <td>Gold</td>\n",
       "    </tr>\n",
       "    <tr>\n",
       "      <th>1</th>\n",
       "      <td>FEUZ Beat</td>\n",
       "      <td>Switzerland</td>\n",
       "      <td>Alpine Skiing</td>\n",
       "      <td>Men's Downhill</td>\n",
       "      <td>Gold</td>\n",
       "    </tr>\n",
       "    <tr>\n",
       "      <th>2</th>\n",
       "      <td>ODERMATT Marco</td>\n",
       "      <td>Switzerland</td>\n",
       "      <td>Alpine Skiing</td>\n",
       "      <td>Men's Giant Slalom</td>\n",
       "      <td>Gold</td>\n",
       "    </tr>\n",
       "    <tr>\n",
       "      <th>3</th>\n",
       "      <td>MAYER Matthias</td>\n",
       "      <td>Austria</td>\n",
       "      <td>Alpine Skiing</td>\n",
       "      <td>Men's Super-G</td>\n",
       "      <td>Gold</td>\n",
       "    </tr>\n",
       "    <tr>\n",
       "      <th>4</th>\n",
       "      <td>NOEL Clement</td>\n",
       "      <td>France</td>\n",
       "      <td>Alpine Skiing</td>\n",
       "      <td>Men's Slalom</td>\n",
       "      <td>Gold</td>\n",
       "    </tr>\n",
       "    <tr>\n",
       "      <th>5</th>\n",
       "      <td>GISIN Michelle</td>\n",
       "      <td>Switzerland</td>\n",
       "      <td>Alpine Skiing</td>\n",
       "      <td>Women's Alpine Combined</td>\n",
       "      <td>Gold</td>\n",
       "    </tr>\n",
       "    <tr>\n",
       "      <th>6</th>\n",
       "      <td>SUTER Corinne</td>\n",
       "      <td>Switzerland</td>\n",
       "      <td>Alpine Skiing</td>\n",
       "      <td>Women's Downhill</td>\n",
       "      <td>Gold</td>\n",
       "    </tr>\n",
       "    <tr>\n",
       "      <th>7</th>\n",
       "      <td>HECTOR Sara</td>\n",
       "      <td>Sweden</td>\n",
       "      <td>Alpine Skiing</td>\n",
       "      <td>Women's Giant Slalom</td>\n",
       "      <td>Gold</td>\n",
       "    </tr>\n",
       "    <tr>\n",
       "      <th>8</th>\n",
       "      <td>GUT-BEHRAMI Lara</td>\n",
       "      <td>Switzerland</td>\n",
       "      <td>Alpine Skiing</td>\n",
       "      <td>Women's Super-G</td>\n",
       "      <td>Gold</td>\n",
       "    </tr>\n",
       "    <tr>\n",
       "      <th>9</th>\n",
       "      <td>VLHOVA Petra</td>\n",
       "      <td>Slovakia</td>\n",
       "      <td>Alpine Skiing</td>\n",
       "      <td>Women's Slalom</td>\n",
       "      <td>Gold</td>\n",
       "    </tr>\n",
       "  </tbody>\n",
       "</table>\n",
       "</div>"
      ],
      "text/plain": [
       "               NAME           NOC          SPORTS                    EVENT  \\\n",
       "0   STROLZ Johannes       Austria   Alpine Skiing    Men's Alpine Combined   \n",
       "1         FEUZ Beat   Switzerland   Alpine Skiing           Men's Downhill   \n",
       "2    ODERMATT Marco   Switzerland   Alpine Skiing       Men's Giant Slalom   \n",
       "3    MAYER Matthias       Austria   Alpine Skiing            Men's Super-G   \n",
       "4      NOEL Clement        France   Alpine Skiing             Men's Slalom   \n",
       "5    GISIN Michelle   Switzerland   Alpine Skiing  Women's Alpine Combined   \n",
       "6     SUTER Corinne   Switzerland   Alpine Skiing         Women's Downhill   \n",
       "7       HECTOR Sara        Sweden   Alpine Skiing     Women's Giant Slalom   \n",
       "8  GUT-BEHRAMI Lara   Switzerland   Alpine Skiing          Women's Super-G   \n",
       "9      VLHOVA Petra      Slovakia   Alpine Skiing           Women's Slalom   \n",
       "\n",
       "  MEDAL  \n",
       "0  Gold  \n",
       "1  Gold  \n",
       "2  Gold  \n",
       "3  Gold  \n",
       "4  Gold  \n",
       "5  Gold  \n",
       "6  Gold  \n",
       "7  Gold  \n",
       "8  Gold  \n",
       "9  Gold  "
      ]
     },
     "execution_count": 466,
     "metadata": {},
     "output_type": "execute_result"
    }
   ],
   "source": [
    "#Then we create a variable with the name Df to read and create our data frame.\n",
    "df = pd.read_csv('Olympics_medals.csv')\n",
    "#Show the first 10th rows of data\n",
    "df.head(10)"
   ]
  },
  {
   "cell_type": "code",
   "execution_count": 467,
   "metadata": {},
   "outputs": [
    {
     "data": {
      "text/plain": [
       "(694, 5)"
      ]
     },
     "execution_count": 467,
     "metadata": {},
     "output_type": "execute_result"
    }
   ],
   "source": [
    "df.shape"
   ]
  },
  {
   "cell_type": "code",
   "execution_count": 468,
   "metadata": {},
   "outputs": [
    {
     "name": "stdout",
     "output_type": "stream",
     "text": [
      "<class 'pandas.core.frame.DataFrame'>\n",
      "RangeIndex: 694 entries, 0 to 693\n",
      "Data columns (total 5 columns):\n",
      " #   Column  Non-Null Count  Dtype \n",
      "---  ------  --------------  ----- \n",
      " 0   NAME    694 non-null    object\n",
      " 1   NOC     694 non-null    object\n",
      " 2   SPORTS  694 non-null    object\n",
      " 3   EVENT   694 non-null    object\n",
      " 4   MEDAL   694 non-null    object\n",
      "dtypes: object(5)\n",
      "memory usage: 27.2+ KB\n"
     ]
    }
   ],
   "source": [
    "df.info()"
   ]
  },
  {
   "cell_type": "code",
   "execution_count": 469,
   "metadata": {},
   "outputs": [
    {
     "data": {
      "text/html": [
       "<div>\n",
       "<style scoped>\n",
       "    .dataframe tbody tr th:only-of-type {\n",
       "        vertical-align: middle;\n",
       "    }\n",
       "\n",
       "    .dataframe tbody tr th {\n",
       "        vertical-align: top;\n",
       "    }\n",
       "\n",
       "    .dataframe thead th {\n",
       "        text-align: right;\n",
       "    }\n",
       "</style>\n",
       "<table border=\"1\" class=\"dataframe\">\n",
       "  <thead>\n",
       "    <tr style=\"text-align: right;\">\n",
       "      <th></th>\n",
       "      <th>NAME</th>\n",
       "      <th>NOC</th>\n",
       "      <th>SPORTS</th>\n",
       "      <th>EVENT</th>\n",
       "      <th>MEDAL</th>\n",
       "    </tr>\n",
       "  </thead>\n",
       "  <tbody>\n",
       "    <tr>\n",
       "      <th>0</th>\n",
       "      <td>STROLZ Johannes</td>\n",
       "      <td>Austria</td>\n",
       "      <td>Alpine Skiing</td>\n",
       "      <td>Men's Alpine Combined</td>\n",
       "      <td>Gold</td>\n",
       "    </tr>\n",
       "    <tr>\n",
       "      <th>1</th>\n",
       "      <td>FEUZ Beat</td>\n",
       "      <td>Switzerland</td>\n",
       "      <td>Alpine Skiing</td>\n",
       "      <td>Men's Downhill</td>\n",
       "      <td>Gold</td>\n",
       "    </tr>\n",
       "    <tr>\n",
       "      <th>2</th>\n",
       "      <td>ODERMATT Marco</td>\n",
       "      <td>Switzerland</td>\n",
       "      <td>Alpine Skiing</td>\n",
       "      <td>Men's Giant Slalom</td>\n",
       "      <td>Gold</td>\n",
       "    </tr>\n",
       "    <tr>\n",
       "      <th>3</th>\n",
       "      <td>MAYER Matthias</td>\n",
       "      <td>Austria</td>\n",
       "      <td>Alpine Skiing</td>\n",
       "      <td>Men's Super-G</td>\n",
       "      <td>Gold</td>\n",
       "    </tr>\n",
       "    <tr>\n",
       "      <th>4</th>\n",
       "      <td>NOEL Clement</td>\n",
       "      <td>France</td>\n",
       "      <td>Alpine Skiing</td>\n",
       "      <td>Men's Slalom</td>\n",
       "      <td>Gold</td>\n",
       "    </tr>\n",
       "  </tbody>\n",
       "</table>\n",
       "</div>"
      ],
      "text/plain": [
       "              NAME           NOC          SPORTS                  EVENT MEDAL\n",
       "0  STROLZ Johannes       Austria   Alpine Skiing  Men's Alpine Combined  Gold\n",
       "1        FEUZ Beat   Switzerland   Alpine Skiing         Men's Downhill  Gold\n",
       "2   ODERMATT Marco   Switzerland   Alpine Skiing     Men's Giant Slalom  Gold\n",
       "3   MAYER Matthias       Austria   Alpine Skiing          Men's Super-G  Gold\n",
       "4     NOEL Clement        France   Alpine Skiing           Men's Slalom  Gold"
      ]
     },
     "execution_count": 469,
     "metadata": {},
     "output_type": "execute_result"
    }
   ],
   "source": [
    "#In this code we are going to filter the data frame and show only the values that match with Gold Medals.\n",
    "Gold_medal = df[df['MEDAL']==\"Gold\"]\n",
    "Gold_medal.head()"
   ]
  },
  {
   "cell_type": "code",
   "execution_count": 470,
   "metadata": {},
   "outputs": [
    {
     "data": {
      "text/plain": [
       "(229, 5)"
      ]
     },
     "execution_count": 470,
     "metadata": {},
     "output_type": "execute_result"
    }
   ],
   "source": [
    "Gold_medal.shape"
   ]
  },
  {
   "cell_type": "markdown",
   "metadata": {},
   "source": [
    "### Random Simple Sample"
   ]
  },
  {
   "cell_type": "code",
   "execution_count": 471,
   "metadata": {},
   "outputs": [
    {
     "data": {
      "text/html": [
       "<div>\n",
       "<style scoped>\n",
       "    .dataframe tbody tr th:only-of-type {\n",
       "        vertical-align: middle;\n",
       "    }\n",
       "\n",
       "    .dataframe tbody tr th {\n",
       "        vertical-align: top;\n",
       "    }\n",
       "\n",
       "    .dataframe thead th {\n",
       "        text-align: right;\n",
       "    }\n",
       "</style>\n",
       "<table border=\"1\" class=\"dataframe\">\n",
       "  <thead>\n",
       "    <tr style=\"text-align: right;\">\n",
       "      <th></th>\n",
       "      <th>NAME</th>\n",
       "      <th>NOC</th>\n",
       "      <th>SPORTS</th>\n",
       "      <th>EVENT</th>\n",
       "      <th>MEDAL</th>\n",
       "    </tr>\n",
       "  </thead>\n",
       "  <tbody>\n",
       "    <tr>\n",
       "      <th>216</th>\n",
       "      <td>SWINGS Bart</td>\n",
       "      <td>Belgium</td>\n",
       "      <td>Speed Skating</td>\n",
       "      <td>Men's Mass Start</td>\n",
       "      <td>Gold</td>\n",
       "    </tr>\n",
       "    <tr>\n",
       "      <th>66</th>\n",
       "      <td>ERIKSSON Oskar</td>\n",
       "      <td>Sweden</td>\n",
       "      <td>Curling</td>\n",
       "      <td>Men</td>\n",
       "      <td>Gold</td>\n",
       "    </tr>\n",
       "    <tr>\n",
       "      <th>9</th>\n",
       "      <td>VLHOVA Petra</td>\n",
       "      <td>Slovakia</td>\n",
       "      <td>Alpine Skiing</td>\n",
       "      <td>Women's Slalom</td>\n",
       "      <td>Gold</td>\n",
       "    </tr>\n",
       "    <tr>\n",
       "      <th>192</th>\n",
       "      <td>KRAFT Stefan</td>\n",
       "      <td>Austria</td>\n",
       "      <td>Ski Jumping</td>\n",
       "      <td>Men's Team</td>\n",
       "      <td>Gold</td>\n",
       "    </tr>\n",
       "    <tr>\n",
       "      <th>15</th>\n",
       "      <td>TRUPPE Katharina</td>\n",
       "      <td>Austria</td>\n",
       "      <td>Alpine Skiing</td>\n",
       "      <td>Mixed Team Parallel</td>\n",
       "      <td>Gold</td>\n",
       "    </tr>\n",
       "    <tr>\n",
       "      <th>...</th>\n",
       "      <td>...</td>\n",
       "      <td>...</td>\n",
       "      <td>...</td>\n",
       "      <td>...</td>\n",
       "      <td>...</td>\n",
       "    </tr>\n",
       "    <tr>\n",
       "      <th>190</th>\n",
       "      <td>HOERL Jan</td>\n",
       "      <td>Austria</td>\n",
       "      <td>Ski Jumping</td>\n",
       "      <td>Men's Team</td>\n",
       "      <td>Gold</td>\n",
       "    </tr>\n",
       "    <tr>\n",
       "      <th>47</th>\n",
       "      <td>CHERVOTKIN Alexey</td>\n",
       "      <td>ROC</td>\n",
       "      <td>Cross-Country Skiing</td>\n",
       "      <td>Men's 4 x 10km Relay</td>\n",
       "      <td>Gold</td>\n",
       "    </tr>\n",
       "    <tr>\n",
       "      <th>94</th>\n",
       "      <td>REGEZ Ryan</td>\n",
       "      <td>Switzerland</td>\n",
       "      <td>Freestyle Skiing</td>\n",
       "      <td>Men's Ski Cross</td>\n",
       "      <td>Gold</td>\n",
       "    </tr>\n",
       "    <tr>\n",
       "      <th>173</th>\n",
       "      <td>LIU Shaoang</td>\n",
       "      <td>Hungary</td>\n",
       "      <td>Short Track Speed Skating</td>\n",
       "      <td>Men's 500m</td>\n",
       "      <td>Gold</td>\n",
       "    </tr>\n",
       "    <tr>\n",
       "      <th>43</th>\n",
       "      <td>LEVI Deborah</td>\n",
       "      <td>Germany</td>\n",
       "      <td>Bobsleigh</td>\n",
       "      <td>2-woman</td>\n",
       "      <td>Gold</td>\n",
       "    </tr>\n",
       "  </tbody>\n",
       "</table>\n",
       "<p>153 rows × 5 columns</p>\n",
       "</div>"
      ],
      "text/plain": [
       "                  NAME           NOC                      SPORTS  \\\n",
       "216        SWINGS Bart       Belgium               Speed Skating   \n",
       "66      ERIKSSON Oskar        Sweden                     Curling   \n",
       "9         VLHOVA Petra      Slovakia               Alpine Skiing   \n",
       "192       KRAFT Stefan       Austria                 Ski Jumping   \n",
       "15    TRUPPE Katharina       Austria               Alpine Skiing   \n",
       "..                 ...           ...                         ...   \n",
       "190          HOERL Jan       Austria                 Ski Jumping   \n",
       "47   CHERVOTKIN Alexey           ROC        Cross-Country Skiing   \n",
       "94          REGEZ Ryan   Switzerland            Freestyle Skiing   \n",
       "173        LIU Shaoang       Hungary   Short Track Speed Skating   \n",
       "43        LEVI Deborah       Germany                   Bobsleigh   \n",
       "\n",
       "                    EVENT MEDAL  \n",
       "216      Men's Mass Start  Gold  \n",
       "66                    Men  Gold  \n",
       "9          Women's Slalom  Gold  \n",
       "192            Men's Team  Gold  \n",
       "15    Mixed Team Parallel  Gold  \n",
       "..                    ...   ...  \n",
       "190            Men's Team  Gold  \n",
       "47   Men's 4 x 10km Relay  Gold  \n",
       "94        Men's Ski Cross  Gold  \n",
       "173            Men's 500m  Gold  \n",
       "43                2-woman  Gold  \n",
       "\n",
       "[153 rows x 5 columns]"
      ]
     },
     "execution_count": 471,
     "metadata": {},
     "output_type": "execute_result"
    }
   ],
   "source": [
    "#Once we get the Data Frame only with gold medals lets extract a Random Simple Sampling to see what are the name, nation, and sports that won a gold medal.\n",
    "Ran_sample = Gold_medal.sample(frac=2/3, random_state=42)\n",
    "Ran_sample"
   ]
  },
  {
   "cell_type": "code",
   "execution_count": 472,
   "metadata": {},
   "outputs": [
    {
     "data": {
      "text/plain": [
       " Canada     22\n",
       " Finland    20\n",
       " Norway     19\n",
       " Germany    18\n",
       " Sweden     11\n",
       "Name: NOC, dtype: int64"
      ]
     },
     "execution_count": 472,
     "metadata": {},
     "output_type": "execute_result"
    }
   ],
   "source": [
    "Ran_sample['NOC'].value_counts().head()\n",
    "\n"
   ]
  },
  {
   "cell_type": "markdown",
   "metadata": {},
   "source": [
    "### Ejemplo de Sistematic Random Sample"
   ]
  },
  {
   "cell_type": "code",
   "execution_count": 473,
   "metadata": {},
   "outputs": [
    {
     "data": {
      "text/html": [
       "<div>\n",
       "<style scoped>\n",
       "    .dataframe tbody tr th:only-of-type {\n",
       "        vertical-align: middle;\n",
       "    }\n",
       "\n",
       "    .dataframe tbody tr th {\n",
       "        vertical-align: top;\n",
       "    }\n",
       "\n",
       "    .dataframe thead th {\n",
       "        text-align: right;\n",
       "    }\n",
       "</style>\n",
       "<table border=\"1\" class=\"dataframe\">\n",
       "  <thead>\n",
       "    <tr style=\"text-align: right;\">\n",
       "      <th></th>\n",
       "      <th>NAME</th>\n",
       "      <th>NOC</th>\n",
       "      <th>SPORTS</th>\n",
       "      <th>EVENT</th>\n",
       "      <th>MEDAL</th>\n",
       "    </tr>\n",
       "  </thead>\n",
       "  <tbody>\n",
       "    <tr>\n",
       "      <th>0</th>\n",
       "      <td>STROLZ Johannes</td>\n",
       "      <td>Austria</td>\n",
       "      <td>Alpine Skiing</td>\n",
       "      <td>Men's Alpine Combined</td>\n",
       "      <td>Gold</td>\n",
       "    </tr>\n",
       "    <tr>\n",
       "      <th>2</th>\n",
       "      <td>ODERMATT Marco</td>\n",
       "      <td>Switzerland</td>\n",
       "      <td>Alpine Skiing</td>\n",
       "      <td>Men's Giant Slalom</td>\n",
       "      <td>Gold</td>\n",
       "    </tr>\n",
       "    <tr>\n",
       "      <th>4</th>\n",
       "      <td>NOEL Clement</td>\n",
       "      <td>France</td>\n",
       "      <td>Alpine Skiing</td>\n",
       "      <td>Men's Slalom</td>\n",
       "      <td>Gold</td>\n",
       "    </tr>\n",
       "    <tr>\n",
       "      <th>6</th>\n",
       "      <td>SUTER Corinne</td>\n",
       "      <td>Switzerland</td>\n",
       "      <td>Alpine Skiing</td>\n",
       "      <td>Women's Downhill</td>\n",
       "      <td>Gold</td>\n",
       "    </tr>\n",
       "    <tr>\n",
       "      <th>8</th>\n",
       "      <td>GUT-BEHRAMI Lara</td>\n",
       "      <td>Switzerland</td>\n",
       "      <td>Alpine Skiing</td>\n",
       "      <td>Women's Super-G</td>\n",
       "      <td>Gold</td>\n",
       "    </tr>\n",
       "  </tbody>\n",
       "</table>\n",
       "</div>"
      ],
      "text/plain": [
       "               NAME           NOC          SPORTS                  EVENT MEDAL\n",
       "0   STROLZ Johannes       Austria   Alpine Skiing  Men's Alpine Combined  Gold\n",
       "2    ODERMATT Marco   Switzerland   Alpine Skiing     Men's Giant Slalom  Gold\n",
       "4      NOEL Clement        France   Alpine Skiing           Men's Slalom  Gold\n",
       "6     SUTER Corinne   Switzerland   Alpine Skiing       Women's Downhill  Gold\n",
       "8  GUT-BEHRAMI Lara   Switzerland   Alpine Skiing        Women's Super-G  Gold"
      ]
     },
     "execution_count": 473,
     "metadata": {},
     "output_type": "execute_result"
    }
   ],
   "source": [
    "#Lets do a Sistematic Random Sample from the gold medals every 2 rows of the data.\n",
    "Sys_Sample= Gold_medal.iloc[::2]\n",
    "Sys_Sample.head()"
   ]
  },
  {
   "cell_type": "code",
   "execution_count": 474,
   "metadata": {},
   "outputs": [
    {
     "data": {
      "text/plain": [
       "(115, 5)"
      ]
     },
     "execution_count": 474,
     "metadata": {},
     "output_type": "execute_result"
    }
   ],
   "source": [
    "\n",
    "Sys_Sample.shape"
   ]
  },
  {
   "cell_type": "code",
   "execution_count": 475,
   "metadata": {},
   "outputs": [
    {
     "data": {
      "text/plain": [
       " Ice Hockey                   0.209607\n",
       " Biathlon                     0.087336\n",
       " Cross-Country Skiing         0.087336\n",
       " Short Track Speed Skating    0.087336\n",
       " Speed Skating                0.078603\n",
       " Alpine Skiing                0.069869\n",
       " Freestyle Skiing             0.065502\n",
       " Curling                      0.052402\n",
       " Figure Skating               0.052402\n",
       " Snowboard                    0.052402\n",
       " Ski Jumping                  0.048035\n",
       " Bobsleigh                    0.039301\n",
       " Luge                         0.034934\n",
       " Nordic Combined              0.026201\n",
       " Skeleton                     0.008734\n",
       "Name: SPORTS, dtype: float64"
      ]
     },
     "execution_count": 475,
     "metadata": {},
     "output_type": "execute_result"
    }
   ],
   "source": [
    "#Let's see the proportion and the distribution of our Original DataSet.\n",
    "#Proporcion de medallas segun mi poblacion teniendo en cuenta las Medallas de Oro.\n",
    "Gold_values = Gold_medal['SPORTS'].value_counts(normalize=True)\n",
    "Gold_values"
   ]
  },
  {
   "cell_type": "code",
   "execution_count": 476,
   "metadata": {},
   "outputs": [
    {
     "data": {
      "text/plain": [
       " Ice Hockey                   0.222222\n",
       " Biathlon                     0.104575\n",
       " Short Track Speed Skating    0.098039\n",
       " Speed Skating                0.071895\n",
       " Alpine Skiing                0.065359\n",
       " Cross-Country Skiing         0.065359\n",
       " Curling                      0.058824\n",
       " Freestyle Skiing             0.058824\n",
       " Figure Skating               0.052288\n",
       " Bobsleigh                    0.052288\n",
       " Ski Jumping                  0.045752\n",
       " Luge                         0.045752\n",
       " Nordic Combined              0.032680\n",
       " Snowboard                    0.019608\n",
       " Skeleton                     0.006536\n",
       "Name: SPORTS, dtype: float64"
      ]
     },
     "execution_count": 476,
     "metadata": {},
     "output_type": "execute_result"
    }
   ],
   "source": [
    "#Lets see the proportion of Random Simple Sample\n",
    "Ran_sample_prop = Ran_sample['SPORTS'].value_counts(normalize=True)\n",
    "Ran_sample_prop\n"
   ]
  },
  {
   "cell_type": "code",
   "execution_count": 477,
   "metadata": {},
   "outputs": [
    {
     "data": {
      "text/plain": [
       " Ice Hockey                   0.208696\n",
       " Biathlon                     0.086957\n",
       " Cross-Country Skiing         0.086957\n",
       " Short Track Speed Skating    0.086957\n",
       " Speed Skating                0.078261\n",
       " Alpine Skiing                0.069565\n",
       " Freestyle Skiing             0.060870\n",
       " Curling                      0.052174\n",
       " Figure Skating               0.052174\n",
       " Ski Jumping                  0.052174\n",
       " Snowboard                    0.052174\n",
       " Bobsleigh                    0.043478\n",
       " Luge                         0.034783\n",
       " Nordic Combined              0.026087\n",
       " Skeleton                     0.008696\n",
       "Name: SPORTS, dtype: float64"
      ]
     },
     "execution_count": 477,
     "metadata": {},
     "output_type": "execute_result"
    }
   ],
   "source": [
    "#Lets see the proportion of the Sistematic Random Sample.\n",
    "Sys_Sample_prop = Sys_Sample['SPORTS'].value_counts(normalize=True)\n",
    "\n",
    "Sys_Sample_prop"
   ]
  },
  {
   "cell_type": "code",
   "execution_count": 478,
   "metadata": {},
   "outputs": [
    {
     "data": {
      "text/plain": [
       " Snowboard                    0.032794\n",
       " Cross-Country Skiing         0.021977\n",
       " Speed Skating                0.006707\n",
       " Freestyle Skiing             0.006679\n",
       " Alpine Skiing                0.004510\n",
       " Ski Jumping                  0.002283\n",
       " Skeleton                     0.002198\n",
       " Figure Skating               0.000114\n",
       " Curling                     -0.006422\n",
       " Nordic Combined             -0.006479\n",
       " Short Track Speed Skating   -0.010703\n",
       " Luge                        -0.010817\n",
       " Ice Hockey                  -0.012615\n",
       " Bobsleigh                   -0.012986\n",
       " Biathlon                    -0.017239\n",
       "Name: SPORTS, dtype: float64"
      ]
     },
     "execution_count": 478,
     "metadata": {},
     "output_type": "execute_result"
    }
   ],
   "source": [
    "\n",
    "##Now we are going to print and see the diference that we obtain in our Random Simple Sample between the original dataframe with the Gold Medals distribution.\n",
    "dif_ran =  Gold_values - Ran_sample_prop\n",
    "dif_ran.sort_values(ascending=False)\n",
    "\n"
   ]
  },
  {
   "cell_type": "code",
   "execution_count": 479,
   "metadata": {},
   "outputs": [
    {
     "data": {
      "text/plain": [
       " Freestyle Skiing             0.004633\n",
       " Ice Hockey                   0.000911\n",
       " Biathlon                     0.000380\n",
       " Cross-Country Skiing         0.000380\n",
       " Short Track Speed Skating    0.000380\n",
       " Speed Skating                0.000342\n",
       " Alpine Skiing                0.000304\n",
       " Curling                      0.000228\n",
       " Figure Skating               0.000228\n",
       " Snowboard                    0.000228\n",
       " Luge                         0.000152\n",
       " Nordic Combined              0.000114\n",
       " Skeleton                     0.000038\n",
       " Ski Jumping                 -0.004139\n",
       " Bobsleigh                   -0.004177\n",
       "Name: SPORTS, dtype: float64"
      ]
     },
     "execution_count": 479,
     "metadata": {},
     "output_type": "execute_result"
    }
   ],
   "source": [
    "##Now we are going to print and see the diference that we obtain in our Sistematic Random Sample between the original dataframe with the Gold Medals distribution.\n",
    "dif_sys =  Gold_values - Sys_Sample_prop\n",
    "dif_sys.sort_values(ascending=False)\n"
   ]
  },
  {
   "cell_type": "markdown",
   "metadata": {},
   "source": [
    "#### Conlusion: In this case we see that the sample that best suits our needs is the Sis Ran Sample, since it takes into account a little more the minority classes to be represented.\n"
   ]
  },
  {
   "cell_type": "markdown",
   "metadata": {},
   "source": [
    "### Ejercicio Nivel 2\n",
    "___\n"
   ]
  },
  {
   "cell_type": "markdown",
   "metadata": {},
   "source": [
    "### Stratified Random Sample\n",
    "___"
   ]
  },
  {
   "cell_type": "code",
   "execution_count": 480,
   "metadata": {},
   "outputs": [],
   "source": [
    "#First of all import our librarys.\n",
    "from sklearn.model_selection import train_test_split\n",
    "import imblearn\n",
    "from imblearn.over_sampling import SMOTE\n",
    "from sklearn import preprocessing\n",
    "from sklearn.preprocessing import LabelEncoder"
   ]
  },
  {
   "cell_type": "markdown",
   "metadata": {},
   "source": [
    "### In this case we are going to balance, and stratify the category Sports to have a better and inclusive sample of our Data."
   ]
  },
  {
   "cell_type": "code",
   "execution_count": 481,
   "metadata": {},
   "outputs": [],
   "source": [
    "#Setting the variables and stratify our dataset with the Sports Category with a Ten porcent of our DataFrame.\n",
    "Xtrain, Xtest = train_test_split(Gold_medal, test_size=0.10, stratify=Gold_medal['SPORTS'])\n"
   ]
  },
  {
   "cell_type": "code",
   "execution_count": 482,
   "metadata": {},
   "outputs": [
    {
     "data": {
      "text/plain": [
       " Ice Hockey                   0.208738\n",
       " Biathlon                     0.087379\n",
       " Short Track Speed Skating    0.087379\n",
       " Cross-Country Skiing         0.087379\n",
       " Speed Skating                0.077670\n",
       " Freestyle Skiing             0.067961\n",
       " Alpine Skiing                0.067961\n",
       " Curling                      0.053398\n",
       " Figure Skating               0.053398\n",
       " Snowboard                    0.053398\n",
       " Ski Jumping                  0.048544\n",
       " Bobsleigh                    0.038835\n",
       " Luge                         0.033981\n",
       " Nordic Combined              0.024272\n",
       " Skeleton                     0.009709\n",
       "Name: SPORTS, dtype: float64"
      ]
     },
     "execution_count": 482,
     "metadata": {},
     "output_type": "execute_result"
    }
   ],
   "source": [
    "#We can see how the Sports are balance after doing that line of code, and the estimate probability of the minority classes grow.\n",
    "X_train_prop = Xtrain['SPORTS'].value_counts(normalize=True)\n",
    "X_train_prop\n"
   ]
  },
  {
   "cell_type": "code",
   "execution_count": 483,
   "metadata": {},
   "outputs": [
    {
     "data": {
      "text/plain": [
       " Alpine Skiing                0.001908\n",
       " Biathlon                    -0.000042\n",
       " Bobsleigh                    0.000466\n",
       " Cross-Country Skiing        -0.000042\n",
       " Curling                     -0.000996\n",
       " Figure Skating              -0.000996\n",
       " Freestyle Skiing            -0.002459\n",
       " Ice Hockey                   0.000869\n",
       " Luge                         0.000954\n",
       " Nordic Combined              0.001929\n",
       " Short Track Speed Skating   -0.000042\n",
       " Skeleton                    -0.000975\n",
       " Ski Jumping                 -0.000509\n",
       " Snowboard                   -0.000996\n",
       " Speed Skating                0.000933\n",
       "Name: SPORTS, dtype: float64"
      ]
     },
     "execution_count": 483,
     "metadata": {},
     "output_type": "execute_result"
    }
   ],
   "source": [
    "\n",
    "#We see a better result doing that method with less difference between other methods of sampling that we did before. Increasing the minority classes.\n",
    "dif_stratif = Gold_values - X_train_prop\n",
    "dif_stratif"
   ]
  },
  {
   "cell_type": "markdown",
   "metadata": {},
   "source": [
    "___\n",
    "### SMOTE Technique (Synthetic Minority Oversampling Technique)\n",
    "___"
   ]
  },
  {
   "cell_type": "markdown",
   "metadata": {},
   "source": [
    "### Lets Try the SMOTE Technique to balance and Oversampling our minority classes."
   ]
  },
  {
   "cell_type": "code",
   "execution_count": 484,
   "metadata": {},
   "outputs": [
    {
     "data": {
      "text/html": [
       "<div>\n",
       "<style scoped>\n",
       "    .dataframe tbody tr th:only-of-type {\n",
       "        vertical-align: middle;\n",
       "    }\n",
       "\n",
       "    .dataframe tbody tr th {\n",
       "        vertical-align: top;\n",
       "    }\n",
       "\n",
       "    .dataframe thead th {\n",
       "        text-align: right;\n",
       "    }\n",
       "</style>\n",
       "<table border=\"1\" class=\"dataframe\">\n",
       "  <thead>\n",
       "    <tr style=\"text-align: right;\">\n",
       "      <th></th>\n",
       "      <th>NAME</th>\n",
       "      <th>NOC</th>\n",
       "      <th>SPORTS</th>\n",
       "      <th>EVENT</th>\n",
       "      <th>MEDAL</th>\n",
       "      <th>Label</th>\n",
       "    </tr>\n",
       "  </thead>\n",
       "  <tbody>\n",
       "    <tr>\n",
       "      <th>0</th>\n",
       "      <td>STROLZ Johannes</td>\n",
       "      <td>Austria</td>\n",
       "      <td>Alpine Skiing</td>\n",
       "      <td>Men's Alpine Combined</td>\n",
       "      <td>Gold</td>\n",
       "      <td>0</td>\n",
       "    </tr>\n",
       "    <tr>\n",
       "      <th>1</th>\n",
       "      <td>FEUZ Beat</td>\n",
       "      <td>Switzerland</td>\n",
       "      <td>Alpine Skiing</td>\n",
       "      <td>Men's Downhill</td>\n",
       "      <td>Gold</td>\n",
       "      <td>0</td>\n",
       "    </tr>\n",
       "    <tr>\n",
       "      <th>2</th>\n",
       "      <td>ODERMATT Marco</td>\n",
       "      <td>Switzerland</td>\n",
       "      <td>Alpine Skiing</td>\n",
       "      <td>Men's Giant Slalom</td>\n",
       "      <td>Gold</td>\n",
       "      <td>0</td>\n",
       "    </tr>\n",
       "    <tr>\n",
       "      <th>3</th>\n",
       "      <td>MAYER Matthias</td>\n",
       "      <td>Austria</td>\n",
       "      <td>Alpine Skiing</td>\n",
       "      <td>Men's Super-G</td>\n",
       "      <td>Gold</td>\n",
       "      <td>0</td>\n",
       "    </tr>\n",
       "    <tr>\n",
       "      <th>4</th>\n",
       "      <td>NOEL Clement</td>\n",
       "      <td>France</td>\n",
       "      <td>Alpine Skiing</td>\n",
       "      <td>Men's Slalom</td>\n",
       "      <td>Gold</td>\n",
       "      <td>0</td>\n",
       "    </tr>\n",
       "  </tbody>\n",
       "</table>\n",
       "</div>"
      ],
      "text/plain": [
       "              NAME           NOC          SPORTS                  EVENT MEDAL  \\\n",
       "0  STROLZ Johannes       Austria   Alpine Skiing  Men's Alpine Combined  Gold   \n",
       "1        FEUZ Beat   Switzerland   Alpine Skiing         Men's Downhill  Gold   \n",
       "2   ODERMATT Marco   Switzerland   Alpine Skiing     Men's Giant Slalom  Gold   \n",
       "3   MAYER Matthias       Austria   Alpine Skiing          Men's Super-G  Gold   \n",
       "4     NOEL Clement        France   Alpine Skiing           Men's Slalom  Gold   \n",
       "\n",
       "   Label  \n",
       "0      0  \n",
       "1      0  \n",
       "2      0  \n",
       "3      0  \n",
       "4      0  "
      ]
     },
     "execution_count": 484,
     "metadata": {},
     "output_type": "execute_result"
    }
   ],
   "source": [
    "#We use Label Encoder to change the name of the objects to Numbers.\n",
    "labelencoder1 = LabelEncoder()\n",
    "df[\"Label\"] = labelencoder1.fit_transform(df[\"SPORTS\"])\n",
    "df.head()"
   ]
  },
  {
   "cell_type": "code",
   "execution_count": 485,
   "metadata": {},
   "outputs": [
    {
     "data": {
      "text/plain": [
       "7     0.207493\n",
       "10    0.087896\n",
       "1     0.086455\n",
       "3     0.086455\n",
       "14    0.080692\n",
       "0     0.067723\n",
       "6     0.064841\n",
       "5     0.059078\n",
       "4     0.051873\n",
       "13    0.051873\n",
       "12    0.047550\n",
       "2     0.038905\n",
       "8     0.034582\n",
       "9     0.025937\n",
       "11    0.008646\n",
       "Name: Label, dtype: float64"
      ]
     },
     "execution_count": 485,
     "metadata": {},
     "output_type": "execute_result"
    }
   ],
   "source": [
    "#Lets See distribution of our data.\n",
    "df['Label'].value_counts(normalize=True)"
   ]
  },
  {
   "cell_type": "code",
   "execution_count": 486,
   "metadata": {},
   "outputs": [
    {
     "data": {
      "text/html": [
       "<div>\n",
       "<style scoped>\n",
       "    .dataframe tbody tr th:only-of-type {\n",
       "        vertical-align: middle;\n",
       "    }\n",
       "\n",
       "    .dataframe tbody tr th {\n",
       "        vertical-align: top;\n",
       "    }\n",
       "\n",
       "    .dataframe thead th {\n",
       "        text-align: right;\n",
       "    }\n",
       "</style>\n",
       "<table border=\"1\" class=\"dataframe\">\n",
       "  <thead>\n",
       "    <tr style=\"text-align: right;\">\n",
       "      <th></th>\n",
       "      <th>NAME</th>\n",
       "      <th>NOC</th>\n",
       "      <th>SPORTS</th>\n",
       "      <th>EVENT</th>\n",
       "      <th>MEDAL</th>\n",
       "      <th>Label</th>\n",
       "      <th>Label_medal</th>\n",
       "    </tr>\n",
       "  </thead>\n",
       "  <tbody>\n",
       "    <tr>\n",
       "      <th>0</th>\n",
       "      <td>STROLZ Johannes</td>\n",
       "      <td>Austria</td>\n",
       "      <td>Alpine Skiing</td>\n",
       "      <td>Men's Alpine Combined</td>\n",
       "      <td>Gold</td>\n",
       "      <td>0</td>\n",
       "      <td>1</td>\n",
       "    </tr>\n",
       "    <tr>\n",
       "      <th>1</th>\n",
       "      <td>FEUZ Beat</td>\n",
       "      <td>Switzerland</td>\n",
       "      <td>Alpine Skiing</td>\n",
       "      <td>Men's Downhill</td>\n",
       "      <td>Gold</td>\n",
       "      <td>0</td>\n",
       "      <td>1</td>\n",
       "    </tr>\n",
       "    <tr>\n",
       "      <th>2</th>\n",
       "      <td>ODERMATT Marco</td>\n",
       "      <td>Switzerland</td>\n",
       "      <td>Alpine Skiing</td>\n",
       "      <td>Men's Giant Slalom</td>\n",
       "      <td>Gold</td>\n",
       "      <td>0</td>\n",
       "      <td>1</td>\n",
       "    </tr>\n",
       "    <tr>\n",
       "      <th>3</th>\n",
       "      <td>MAYER Matthias</td>\n",
       "      <td>Austria</td>\n",
       "      <td>Alpine Skiing</td>\n",
       "      <td>Men's Super-G</td>\n",
       "      <td>Gold</td>\n",
       "      <td>0</td>\n",
       "      <td>1</td>\n",
       "    </tr>\n",
       "    <tr>\n",
       "      <th>4</th>\n",
       "      <td>NOEL Clement</td>\n",
       "      <td>France</td>\n",
       "      <td>Alpine Skiing</td>\n",
       "      <td>Men's Slalom</td>\n",
       "      <td>Gold</td>\n",
       "      <td>0</td>\n",
       "      <td>1</td>\n",
       "    </tr>\n",
       "  </tbody>\n",
       "</table>\n",
       "</div>"
      ],
      "text/plain": [
       "              NAME           NOC          SPORTS                  EVENT MEDAL  \\\n",
       "0  STROLZ Johannes       Austria   Alpine Skiing  Men's Alpine Combined  Gold   \n",
       "1        FEUZ Beat   Switzerland   Alpine Skiing         Men's Downhill  Gold   \n",
       "2   ODERMATT Marco   Switzerland   Alpine Skiing     Men's Giant Slalom  Gold   \n",
       "3   MAYER Matthias       Austria   Alpine Skiing          Men's Super-G  Gold   \n",
       "4     NOEL Clement        France   Alpine Skiing           Men's Slalom  Gold   \n",
       "\n",
       "   Label  Label_medal  \n",
       "0      0            1  \n",
       "1      0            1  \n",
       "2      0            1  \n",
       "3      0            1  \n",
       "4      0            1  "
      ]
     },
     "execution_count": 486,
     "metadata": {},
     "output_type": "execute_result"
    }
   ],
   "source": [
    "#Transform the Column Medal To Numeric Value.\n",
    "labelencoder2 = LabelEncoder()\n",
    "df[\"Label_medal\"] = labelencoder2.fit_transform(df[\"MEDAL\"])\n",
    "df.head()"
   ]
  },
  {
   "cell_type": "code",
   "execution_count": 487,
   "metadata": {},
   "outputs": [
    {
     "data": {
      "text/plain": [
       " Ice Hockey                   144\n",
       " Short Track Speed Skating     61\n",
       " Biathlon                      60\n",
       " Cross-Country Skiing          60\n",
       " Speed Skating                 56\n",
       " Alpine Skiing                 47\n",
       " Freestyle Skiing              45\n",
       " Figure Skating                41\n",
       " Curling                       36\n",
       " Snowboard                     36\n",
       " Ski Jumping                   33\n",
       " Bobsleigh                     27\n",
       " Luge                          24\n",
       " Nordic Combined               18\n",
       " Skeleton                       6\n",
       "Name: SPORTS, dtype: int64"
      ]
     },
     "execution_count": 487,
     "metadata": {},
     "output_type": "execute_result"
    }
   ],
   "source": [
    "df['SPORTS'].value_counts()"
   ]
  },
  {
   "cell_type": "code",
   "execution_count": 488,
   "metadata": {},
   "outputs": [
    {
     "data": {
      "text/plain": [
       "7     144\n",
       "10     61\n",
       "1      60\n",
       "3      60\n",
       "14     56\n",
       "0      47\n",
       "6      45\n",
       "5      41\n",
       "4      36\n",
       "13     36\n",
       "12     33\n",
       "2      27\n",
       "8      24\n",
       "9      18\n",
       "11      6\n",
       "Name: Label, dtype: int64"
      ]
     },
     "execution_count": 488,
     "metadata": {},
     "output_type": "execute_result"
    }
   ],
   "source": [
    "df['Label'].value_counts()"
   ]
  },
  {
   "cell_type": "code",
   "execution_count": 489,
   "metadata": {},
   "outputs": [],
   "source": [
    "#Lets apply Smote: We Oversampling with random neighbors Values of the minority class to balance the Data.\n",
    "#Not minority means: resample all classes but the majority class;\n",
    "smote = SMOTE(sampling_strategy=\"not majority\", random_state=42)\n",
    "\n",
    "X,y = smote.fit_resample(df[[\"Label\",\"Label_medal\"]],df[\"Label\"])\n"
   ]
  },
  {
   "cell_type": "code",
   "execution_count": 490,
   "metadata": {},
   "outputs": [
    {
     "data": {
      "text/plain": [
       "0     144\n",
       "1     144\n",
       "2     144\n",
       "3     144\n",
       "4     144\n",
       "5     144\n",
       "6     144\n",
       "7     144\n",
       "8     144\n",
       "9     144\n",
       "10    144\n",
       "11    144\n",
       "12    144\n",
       "13    144\n",
       "14    144\n",
       "Name: Label, dtype: int64"
      ]
     },
     "execution_count": 490,
     "metadata": {},
     "output_type": "execute_result"
    }
   ],
   "source": [
    "#We balance the minority classes to get the exact amound of data like the majority class(Ice Hockey).\n",
    "X['Label'].value_counts()"
   ]
  },
  {
   "cell_type": "code",
   "execution_count": 491,
   "metadata": {},
   "outputs": [
    {
     "data": {
      "text/plain": [
       "0     0.066667\n",
       "1     0.066667\n",
       "2     0.066667\n",
       "3     0.066667\n",
       "4     0.066667\n",
       "5     0.066667\n",
       "6     0.066667\n",
       "7     0.066667\n",
       "8     0.066667\n",
       "9     0.066667\n",
       "10    0.066667\n",
       "11    0.066667\n",
       "12    0.066667\n",
       "13    0.066667\n",
       "14    0.066667\n",
       "Name: Label, dtype: float64"
      ]
     },
     "execution_count": 491,
     "metadata": {},
     "output_type": "execute_result"
    }
   ],
   "source": [
    "#Lets see what we got from SMOTE Technique.\n",
    "Label_values = X['Label'].value_counts(normalize=True)\n",
    "Label_values\n",
    "#As we spect now is the same proportion of data."
   ]
  },
  {
   "cell_type": "markdown",
   "metadata": {},
   "source": [
    "### Some Charts to make the comparison\n",
    "___"
   ]
  },
  {
   "cell_type": "code",
   "execution_count": 492,
   "metadata": {},
   "outputs": [],
   "source": [
    "import matplotlib.pyplot as plt\n",
    "import seaborn as sns"
   ]
  },
  {
   "cell_type": "code",
   "execution_count": 493,
   "metadata": {},
   "outputs": [
    {
     "data": {
      "image/png": "[encoded data removed]",
      "text/plain": [
       "<Figure size 576x576 with 1 Axes>"
      ]
     },
     "metadata": {
      "needs_background": "light"
     },
     "output_type": "display_data"
    }
   ],
   "source": [
    "#Original DataSet Distribution.\n",
    "x_values = df['SPORTS'].unique()\n",
    "y_values = Gold_values.tolist()\n",
    "plt.figure(figsize=(8,8))\n",
    "plt.xticks(rotation=60)\n",
    "plt.bar(x_values, y_values)\n",
    "plt.title('Original Dataset Distribution')\n",
    "plt.grid()\n",
    "plt.show()\n",
    "plt.close('all')"
   ]
  },
  {
   "cell_type": "code",
   "execution_count": 494,
   "metadata": {},
   "outputs": [
    {
     "name": "stderr",
     "output_type": "stream",
     "text": [
      "/var/folders/lp/yxkb1h012b5ghgw2qx_j5g9w0000gn/T/ipykernel_27402/4156297328.py:9: UserWarning: FixedFormatter should only be used together with FixedLocator\n",
      "  axes[0].set_xticklabels(rotation=90, labels=x_values)\n",
      "/var/folders/lp/yxkb1h012b5ghgw2qx_j5g9w0000gn/T/ipykernel_27402/4156297328.py:19: UserWarning: FixedFormatter should only be used together with FixedLocator\n",
      "  axes[1].set_xticklabels(rotation=90, labels=x_values)\n",
      "/var/folders/lp/yxkb1h012b5ghgw2qx_j5g9w0000gn/T/ipykernel_27402/4156297328.py:33: UserWarning: FixedFormatter should only be used together with FixedLocator\n",
      "  axes[2].set_xticklabels(rotation=90, labels=x_values)\n",
      "/var/folders/lp/yxkb1h012b5ghgw2qx_j5g9w0000gn/T/ipykernel_27402/4156297328.py:42: UserWarning: FixedFormatter should only be used together with FixedLocator\n",
      "  axes[3].set_xticklabels(rotation=90, labels=x_values)\n"
     ]
    },
    {
     "data": {
      "image/png": "[encoded data removed]",
      "text/plain": [
       "<Figure size 1080x720 with 4 Axes>"
      ]
     },
     "metadata": {
      "needs_background": "light"
     },
     "output_type": "display_data"
    }
   ],
   "source": [
    "###Plotting the 4 different Methods.\n",
    "#plot 1:\n",
    "fig,axes = plt.subplots(1,4, figsize=(15,10))\n",
    "\n",
    "x_values = df['SPORTS'].unique()\n",
    "y_values = Ran_sample_prop\n",
    "axes[0].bar(x_values, y_values)\n",
    "axes[0].set(title='Random Simple Sample')\n",
    "axes[0].set_xticklabels(rotation=90, labels=x_values)\n",
    "axes[0].grid()\n",
    "axes[0].plot(x_values, y_values)\n",
    "\n",
    "\n",
    "#plot 2:\n",
    "x_values = df['SPORTS'].unique()\n",
    "y_values2 = Sys_Sample_prop\n",
    "axes[1].bar(x_values, y_values2)\n",
    "axes[1].set(title='Sistematic Random Sample')\n",
    "axes[1].set_xticklabels(rotation=90, labels=x_values)\n",
    "axes[1].plot(x_values, y_values2)\n",
    "\n",
    "axes[1].grid()\n",
    "\n",
    "\n",
    "\n",
    "\n",
    "#plot 3:\n",
    "\n",
    "x_values = df['SPORTS'].unique()\n",
    "y_values3 = X_train_prop\n",
    "axes[2].bar(x_values, y_values3)\n",
    "axes[2].set(title='Stratify Sample')\n",
    "axes[2].set_xticklabels(rotation=90, labels=x_values)\n",
    "axes[2].grid()\n",
    "axes[2].plot(x_values, y_values3)\n",
    "\n",
    "#Plot 4:\n",
    "\n",
    "x_values = df['SPORTS'].unique()\n",
    "y_values4 = Label_values\n",
    "axes[3].bar(x_values, y_values4)\n",
    "axes[3].set_xticklabels(rotation=90, labels=x_values)\n",
    "axes[3].set(title='SMOTE')\n",
    "axes[3].grid()\n",
    "axes[3].plot(x_values, y_values4)\n",
    "\n",
    "\n",
    "\n",
    "plt.tight_layout()\n",
    "plt.show()\n",
    "\n"
   ]
  },
  {
   "cell_type": "code",
   "execution_count": 495,
   "metadata": {},
   "outputs": [
    {
     "data": {
      "image/png": "[encoded data removed]",
      "text/plain": [
       "<Figure size 720x576 with 1 Axes>"
      ]
     },
     "metadata": {
      "needs_background": "light"
     },
     "output_type": "display_data"
    }
   ],
   "source": [
    "#Plot the 3 methods.\n",
    "fig, ax = plt.subplots(figsize=(10,8))\n",
    "\n",
    "ax.bar(df['SPORTS'].unique(),Ran_sample_prop, label=\"Random\")\n",
    "ax.bar(df['SPORTS'].unique(),X_train_prop, label=\"Stratify\")\n",
    "ax.bar(df['SPORTS'].unique(), Sys_Sample_prop,label= \"Sistematic\",color='lime')\n",
    "ax.set_title(\"3 Methods\",fontsize=20)\n",
    "ax.set_ylabel(\"Proportion\", fontsize=14)\n",
    "ax.set_xlabel(\"Sports\", fontsize=14)\n",
    "\n",
    "ax.spines['top'].set_visible(False)\n",
    "ax.spines['right'].set_visible(False)\n",
    "\n",
    "ax.yaxis.grid(True)\n",
    "ax.xaxis.grid(False)\n",
    "plt.xticks(rotation=90)\n",
    "plt.legend(loc=\"best\", title=\"Types of sampling\")\n",
    "\n",
    "\n",
    "\n",
    "plt.show()"
   ]
  },
  {
   "cell_type": "markdown",
   "metadata": {},
   "source": [
    "### Conclusion: The 3 methods are very similar but with The Stratified Random Sample we obtain better and fair results."
   ]
  },
  {
   "cell_type": "markdown",
   "metadata": {},
   "source": [
    "# SMOTE\n"
   ]
  },
  {
   "cell_type": "code",
   "execution_count": 496,
   "metadata": {},
   "outputs": [
    {
     "data": {
      "image/png": "[encoded data removed]",
      "text/plain": [
       "<Figure size 576x576 with 1 Axes>"
      ]
     },
     "metadata": {
      "needs_background": "light"
     },
     "output_type": "display_data"
    }
   ],
   "source": [
    "x_values = df['SPORTS'].unique()\n",
    "y_values = Label_values\n",
    "plt.figure(figsize=(8,8))\n",
    "plt.xticks(rotation=60)\n",
    "plt.bar(x_values, y_values)\n",
    "plt.grid()\n",
    "plt.show()\n",
    "plt.close('all')"
   ]
  },
  {
   "cell_type": "markdown",
   "metadata": {},
   "source": [
    "### Conclusion: We see that all the minority classes are equal balance in our DataSet, because we oversampling all the minority classes to reach the majority class and have a more fair sample.\n",
    "This Technique is very usefull when we have an inbalance dataset."
   ]
  },
  {
   "cell_type": "markdown",
   "metadata": {},
   "source": []
  }
 ],
 "metadata": {
  "interpreter": {
   "hash": "aee8b7b246df8f9039afb4144a1f6fd8d2ca17a180786b69acc140d282b71a49"
  },
  "kernelspec": {
   "display_name": "Python 3.9.5 64-bit",
   "language": "python",
   "name": "python3"
  },
  "language_info": {
   "codemirror_mode": {
    "name": "ipython",
    "version": 3
   },
   "file_extension": ".py",
   "mimetype": "text/x-python",
   "name": "python",
   "nbconvert_exporter": "python",
   "pygments_lexer": "ipython3",
   "version": "3.9.5"
  },
  "orig_nbformat": 4
 },
 "nbformat": 4,
 "nbformat_minor": 2
}
